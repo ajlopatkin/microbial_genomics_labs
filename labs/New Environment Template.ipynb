{
 "cells": [
  {
   "cell_type": "code",
   "execution_count": null,
   "id": "071d3532",
   "metadata": {},
   "outputs": [],
   "source": [
    "%%bash\n",
    "# replace prokka_env with the name of your environment\n",
    "# replace prokka with whatever package you want to download\n",
    "# this may take several minutes, depending on the package\n",
    "ENV_NAME=prokka_env\n",
    "conda create -y -n $ENV_NAME -c bioconda prokka\n",
    "conda install -y -n $ENV_NAME -c anaconda ipykernel"
   ]
  },
  {
   "cell_type": "code",
   "execution_count": 4,
   "id": "0f5c198a",
   "metadata": {},
   "outputs": [],
   "source": [
    "# reload your page, go to the Kernel menu, and choose \"Change Kernel\"\n",
    "# your new environment should show up; select it and wait for it to start\n",
    "# you should now have access to the tools you installed \n",
    "\n",
    "# IMPORTANT NOTE: some packages do need additional prerequisites not installed via conda.\n",
    "# If you receive unexpected behavior, first check the Github/Biostars/Conda pages for open issues\n",
    "# You may also need to try installing specific versions of programs/channels, i.e.,\n",
    "#   conda create -n roary_env -c bioconda roary -- DOESN'T WORK (fails when trying to run roary)\n",
    "#   conda create -n roary_env -c conda-forge -c bioconda roary=3.13 -- DOES WORK (but takes a while)"
   ]
  },
  {
   "cell_type": "code",
   "execution_count": 1,
   "id": "2bc54b9b",
   "metadata": {
    "scrolled": true
   },
   "outputs": [
    {
     "name": "stdout",
     "output_type": "stream",
     "text": [
      "Name:\n",
      "  Prokka 1.13 by Torsten Seemann <torsten.seemann@gmail.com>\n",
      "Synopsis:\n",
      "  rapid bacterial genome annotation\n",
      "Usage:\n",
      "  prokka [options] <contigs.fasta>\n",
      "General:\n",
      "Setup:\n",
      "Outputs:\n",
      "Organism details:\n",
      "Annotations:\n",
      "Computation:\n"
     ]
    },
    {
     "name": "stderr",
     "output_type": "stream",
     "text": [
      "  --help            This help\n",
      "  --version         Print version and exit\n",
      "  --docs            Show full manual/documentation\n",
      "  --citation        Print citation for referencing Prokka\n",
      "  --quiet           No screen output (default OFF)\n",
      "  --debug           Debug mode: keep all temporary files (default OFF)\n",
      "  --listdb          List all configured databases\n",
      "  --setupdb         Index all installed databases\n",
      "  --cleandb         Remove all database indices\n",
      "  --depends         List all software dependencies\n",
      "  --outdir [X]      Output folder [auto] (default '')\n",
      "  --force           Force overwriting existing output folder (default OFF)\n",
      "  --prefix [X]      Filename output prefix [auto] (default '')\n",
      "  --addgenes        Add 'gene' features for each 'CDS' feature (default OFF)\n",
      "  --addmrna         Add 'mRNA' features for each 'CDS' feature (default OFF)\n",
      "  --locustag [X]    Locus tag prefix [auto] (default '')\n",
      "  --increment [N]   Locus tag counter increment (default '1')\n",
      "  --gffver [N]      GFF version (default '3')\n",
      "  --compliant       Force Genbank/ENA/DDJB compliance: --addgenes --mincontiglen 200 --centre XXX (default OFF)\n",
      "  --centre [X]      Sequencing centre ID. (default '')\n",
      "  --accver [N]      Version to put in Genbank file (default '1')\n",
      "  --genus [X]       Genus name (default 'Genus')\n",
      "  --species [X]     Species name (default 'species')\n",
      "  --strain [X]      Strain name (default 'strain')\n",
      "  --plasmid [X]     Plasmid name or identifier (default '')\n",
      "  --kingdom [X]     Annotation mode: Archaea|Bacteria|Mitochondria|Viruses (default 'Bacteria')\n",
      "  --gcode [N]       Genetic code / Translation table (set if --kingdom is set) (default '0')\n",
      "  --gram [X]        Gram: -/neg +/pos (default '')\n",
      "  --usegenus        Use genus-specific BLAST databases (needs --genus) (default OFF)\n",
      "  --proteins [X]    FASTA or GBK file to use as 1st priority (default '')\n",
      "  --hmms [X]        Trusted HMM to first annotate from (default '')\n",
      "  --metagenome      Improve gene predictions for highly fragmented genomes (default OFF)\n",
      "  --rawproduct      Do not clean up /product annotation (default OFF)\n",
      "  --cdsrnaolap      Allow [tr]RNA to overlap CDS (default OFF)\n",
      "  --cpus [N]        Number of CPUs to use [0=all] (default '8')\n",
      "  --fast            Fast mode - only use basic BLASTP databases (default OFF)\n",
      "  --noanno          For CDS just set /product=\"unannotated protein\" (default OFF)\n",
      "  --mincontiglen [N] Minimum contig size [NCBI needs 200] (default '1')\n",
      "  --evalue [n.n]    Similarity e-value cut-off (default '1e-06')\n",
      "  --rfam            Enable searching for ncRNAs with Infernal+Rfam (SLOW!) (default '0')\n",
      "  --norrna          Don't run rRNA search (default OFF)\n",
      "  --notrna          Don't run tRNA search (default OFF)\n",
      "  --rnammer         Prefer RNAmmer over Barrnap for rRNA prediction (default OFF)\n"
     ]
    }
   ],
   "source": [
    "%%bash\n",
    "prokka -help"
   ]
  },
  {
   "cell_type": "code",
   "execution_count": null,
   "id": "d7ff7dc3",
   "metadata": {},
   "outputs": [],
   "source": []
  }
 ],
 "metadata": {
  "kernelspec": {
   "display_name": "Python 3",
   "language": "python",
   "name": "python3"
  },
  "language_info": {
   "codemirror_mode": {
    "name": "ipython",
    "version": 3
   },
   "file_extension": ".py",
   "mimetype": "text/x-python",
   "name": "python",
   "nbconvert_exporter": "python",
   "pygments_lexer": "ipython3",
   "version": "3.7.7"
  }
 },
 "nbformat": 4,
 "nbformat_minor": 5
}
